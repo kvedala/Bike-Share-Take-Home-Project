{
 "cells": [
  {
   "cell_type": "code",
   "execution_count": 1,
   "metadata": {},
   "outputs": [],
   "source": [
    "import logging\n",
    "import pandas as pd\n",
    "from flask_restful import Resource, abort, fields, marshal_with"
   ]
  },
  {
   "cell_type": "code",
   "execution_count": 10,
   "metadata": {},
   "outputs": [],
   "source": [
    "STATIONS = pd.DataFrame([\n",
    "            {\n",
    "                'id': 1,\n",
    "                'sponsor': [1, 2],\n",
    "                'probability': 0.5,\n",
    "                'capacity': 10,\n",
    "                'bike_id': [],\n",
    "                'trips': 0\n",
    "            },\n",
    "            {\n",
    "                'id': 2,\n",
    "                'sponsor': [2, 3],\n",
    "                'probability': 0.2,\n",
    "                'capacity': 5,\n",
    "                'bike_id': [],\n",
    "                'trips': 0\n",
    "            },\n",
    "            {\n",
    "                'id': 3,\n",
    "                'sponsor': [3],\n",
    "                'probability': 0.2,\n",
    "                'capacity': 13,\n",
    "                'bike_id': [],\n",
    "                'trips': 0\n",
    "            },\n",
    "            {\n",
    "                'id': 4,\n",
    "                'sponsor': [1, 3, 4],\n",
    "                'probability': 0.1,\n",
    "                'capacity': 10,\n",
    "                'bike_id': [],\n",
    "                'trips': 0\n",
    "            }\n",
    "        ])"
   ]
  },
  {
   "cell_type": "code",
   "execution_count": 77,
   "metadata": {},
   "outputs": [
    {
     "data": {
      "text/plain": [
       "'[{\"bike_id\":[],\"capacity\":10,\"id\":1,\"probability\":0.5,\"sponsor\":[1,2],\"trips\":0},{\"bike_id\":[],\"capacity\":5,\"id\":2,\"probability\":0.2,\"sponsor\":[2,3],\"trips\":0},{\"bike_id\":[],\"capacity\":13,\"id\":3,\"probability\":0.2,\"sponsor\":[3],\"trips\":0},{\"bike_id\":[],\"capacity\":10,\"id\":4,\"probability\":0.1,\"sponsor\":[1,3,4],\"trips\":0}]'"
      ]
     },
     "execution_count": 77,
     "metadata": {},
     "output_type": "execute_result"
    }
   ],
   "source": [
    "STATIONS.to_json(orient='records')"
   ]
  },
  {
   "cell_type": "code",
   "execution_count": 16,
   "metadata": {},
   "outputs": [],
   "source": [
    "import random"
   ]
  },
  {
   "cell_type": "code",
   "execution_count": 74,
   "metadata": {},
   "outputs": [
    {
     "data": {
      "text/plain": [
       "2"
      ]
     },
     "execution_count": 74,
     "metadata": {},
     "output_type": "execute_result"
    }
   ],
   "source": [
    "random.choices(STATIONS.loc[:,'id'].values, STATIONS.loc[:,'probability'].values)[0]"
   ]
  },
  {
   "cell_type": "code",
   "execution_count": null,
   "metadata": {},
   "outputs": [],
   "source": []
  }
 ],
 "metadata": {
  "kernelspec": {
   "display_name": "Python 3",
   "language": "python",
   "name": "python3"
  },
  "language_info": {
   "codemirror_mode": {
    "name": "ipython",
    "version": 3
   },
   "file_extension": ".py",
   "mimetype": "text/x-python",
   "name": "python",
   "nbconvert_exporter": "python",
   "pygments_lexer": "ipython3",
   "version": "3.6.8"
  }
 },
 "nbformat": 4,
 "nbformat_minor": 2
}
